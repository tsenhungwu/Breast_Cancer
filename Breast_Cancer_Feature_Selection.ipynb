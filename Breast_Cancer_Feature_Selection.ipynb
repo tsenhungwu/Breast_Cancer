{
 "cells": [
  {
   "cell_type": "markdown",
   "metadata": {},
   "source": [
    "# The overall workflow in 'Breast_Cancer_Feature_Selection'\n",
    "## 1. Feature Selection - Statistical Hypothesis testing\n",
    "## 2. Next steps"
   ]
  },
  {
   "cell_type": "markdown",
   "metadata": {},
   "source": [
    "# Packages"
   ]
  },
  {
   "cell_type": "code",
   "execution_count": 1,
   "metadata": {},
   "outputs": [],
   "source": [
    "import pandas as pd\n",
    "import numpy as np\n",
    "from Breast_Cancer_Functions import preprocess_dataset, f_test_two_p_variance\n",
    "from scipy.stats import ttest_ind"
   ]
  },
  {
   "cell_type": "markdown",
   "metadata": {},
   "source": [
    "# 1. Feature Selection - Statistical Hypothesis testing"
   ]
  },
  {
   "cell_type": "markdown",
   "metadata": {},
   "source": [
    "- **Before performing a two-sample t-test, I need to determine whether two samples have the same variance by conducting an F-test.**"
   ]
  },
  {
   "cell_type": "markdown",
   "metadata": {},
   "source": [
    "- **F-test, null ($H_0$) and alternative ($H_1$) hypotheses:**"
   ]
  },
  {
   "cell_type": "markdown",
   "metadata": {},
   "source": [
    "$$H_0: \\sigma_1^2 = \\sigma_2^2$$\n",
    "\n",
    "$$H_1: \\sigma_1^2 \\neq \\sigma_2^2$$"
   ]
  },
  {
   "cell_type": "markdown",
   "metadata": {},
   "source": [
    "- **F-test, test statistic**: \n",
    "\n",
    "$$F = \\frac {s_1^2} {s_2^2}$$"
   ]
  },
  {
   "cell_type": "markdown",
   "metadata": {},
   "source": [
    "- **F-test, 95% confidence interval for the estimator (if a C.I. contains 1, two variances are equal):**"
   ]
  },
  {
   "cell_type": "markdown",
   "metadata": {},
   "source": [
    "$$C.I. = (\\frac {1}{F_\\frac{\\alpha}{2}} \\frac {s_1^2}{s_2^2}, \\frac {1}{F_{1-\\frac{\\alpha}{2}}} \\frac {s_1^2}{s_2^2})$$"
   ]
  },
  {
   "cell_type": "markdown",
   "metadata": {},
   "source": [
    "- **Reject \\$H_0$**:\n",
    "\n",
    "    - when 95% C.I. contains 1 \n",
    "    - when p-value is less than $\\alpha$"
   ]
  },
  {
   "cell_type": "markdown",
   "metadata": {},
   "source": [
    "## 1.1 Hypothesis testing - two-sample F-test for comparing variances"
   ]
  },
  {
   "cell_type": "code",
   "execution_count": 2,
   "metadata": {},
   "outputs": [],
   "source": [
    "data = pd.read_csv('data.csv')\n",
    "data = preprocess_dataset(data=data)"
   ]
  },
  {
   "cell_type": "code",
   "execution_count": 3,
   "metadata": {
    "scrolled": false
   },
   "outputs": [
    {
     "name": "stdout",
     "output_type": "stream",
     "text": [
      "Column name: radius_mean.\n",
      "F ratio: 3.2381.\n",
      "p-value: 0.0.\n",
      "95 C.I. (2.5533, 4.1376).\n",
      "Decision: reject H0, two variances are unequal.\n",
      "----------------------------------------------------\n",
      "Column name: texture_mean.\n",
      "F ratio: 0.895.\n",
      "p-value: 0.3748.\n",
      "95 C.I. (0.7057, 1.1436).\n",
      "Decision: do not reject H0, two variances are equal.\n",
      "----------------------------------------------------\n",
      "Column name: perimeter_mean.\n",
      "F ratio: 3.4259.\n",
      "p-value: 0.0.\n",
      "95 C.I. (2.7014, 4.3776).\n",
      "Decision: reject H0, two variances are unequal.\n",
      "----------------------------------------------------\n",
      "Column name: area_mean.\n",
      "F ratio: 7.5072.\n",
      "p-value: 0.0.\n",
      "95 C.I. (5.9197, 9.5927).\n",
      "Decision: reject H0, two variances are unequal.\n",
      "----------------------------------------------------\n",
      "Column name: smoothness_mean.\n",
      "F ratio: 0.8793.\n",
      "p-value: 0.3031.\n",
      "95 C.I. (0.6933, 1.1235).\n",
      "Decision: do not reject H0, two variances are equal.\n",
      "----------------------------------------------------\n",
      "Column name: compactness_mean.\n",
      "F ratio: 2.5588.\n",
      "p-value: 0.0.\n",
      "95 C.I. (2.0177, 3.2696).\n",
      "Decision: reject H0, two variances are unequal.\n",
      "----------------------------------------------------\n",
      "Column name: concavity_mean.\n",
      "F ratio: 2.9821.\n",
      "p-value: 0.0.\n",
      "95 C.I. (2.3515, 3.8105).\n",
      "Decision: reject H0, two variances are unequal.\n",
      "----------------------------------------------------\n",
      "Column name: concave points_mean.\n",
      "F ratio: 4.6686.\n",
      "p-value: 0.0.\n",
      "95 C.I. (3.6813, 5.9655).\n",
      "Decision: reject H0, two variances are unequal.\n",
      "----------------------------------------------------\n",
      "Column name: symmetry_mean.\n",
      "F ratio: 1.2413.\n",
      "p-value: 0.0746.\n",
      "95 C.I. (0.9788, 1.5861).\n",
      "Decision: do not reject H0, two variances are equal.\n",
      "----------------------------------------------------\n",
      "Column name: fractal_dimension_mean.\n",
      "F ratio: 1.2598.\n",
      "p-value: 0.0568.\n",
      "95 C.I. (0.9934, 1.6098).\n",
      "Decision: do not reject H0, two variances are equal.\n",
      "----------------------------------------------------\n",
      "Column name: radius_se.\n",
      "F ratio: 9.3949.\n",
      "p-value: 0.0.\n",
      "95 C.I. (7.4081, 12.0048).\n",
      "Decision: reject H0, two variances are unequal.\n",
      "----------------------------------------------------\n",
      "Column name: texture_se.\n",
      "F ratio: 0.6725.\n",
      "p-value: 0.0016.\n",
      "95 C.I. (0.5303, 0.8594).\n",
      "Decision: reject H0, two variances are unequal.\n",
      "----------------------------------------------------\n",
      "Column name: perimeter_se.\n",
      "F ratio: 11.0937.\n",
      "p-value: 0.0.\n",
      "95 C.I. (8.7477, 14.1754).\n",
      "Decision: reject H0, two variances are unequal.\n",
      "----------------------------------------------------\n",
      "Column name: area_se.\n",
      "F ratio: 48.1347.\n",
      "p-value: 0.0.\n",
      "95 C.I. (37.9555, 61.5061).\n",
      "Decision: reject H0, two variances are unequal.\n",
      "----------------------------------------------------\n",
      "Column name: smoothness_se.\n",
      "F ratio: 0.8919.\n",
      "p-value: 0.3601.\n",
      "95 C.I. (0.7033, 1.1396).\n",
      "Decision: do not reject H0, two variances are equal.\n",
      "----------------------------------------------------\n",
      "Column name: compactness_se.\n",
      "F ratio: 1.2645.\n",
      "p-value: 0.0529.\n",
      "95 C.I. (0.9971, 1.6158).\n",
      "Decision: do not reject H0, two variances are equal.\n",
      "----------------------------------------------------\n",
      "Column name: concavity_se.\n",
      "F ratio: 0.4307.\n",
      "p-value: 0.0.\n",
      "95 C.I. (0.3396, 0.5503).\n",
      "Decision: reject H0, two variances are unequal.\n",
      "----------------------------------------------------\n",
      "Column name: concave points_se.\n",
      "F ratio: 0.9341.\n",
      "p-value: 0.5878.\n",
      "95 C.I. (0.7366, 1.1936).\n",
      "Decision: do not reject H0, two variances are equal.\n",
      "----------------------------------------------------\n",
      "Column name: symmetry_se.\n",
      "F ratio: 2.0683.\n",
      "p-value: 0.0.\n",
      "95 C.I. (1.6309, 2.6428).\n",
      "Decision: reject H0, two variances are unequal.\n",
      "----------------------------------------------------\n",
      "Column name: fractal_dimension_se.\n",
      "F ratio: 0.4828.\n",
      "p-value: 0.0.\n",
      "95 C.I. (0.3807, 0.6169).\n",
      "Decision: reject H0, two variances are unequal.\n",
      "----------------------------------------------------\n",
      "Column name: radius_worst.\n",
      "F ratio: 4.6739.\n",
      "p-value: 0.0.\n",
      "95 C.I. (3.6855, 5.9723).\n",
      "Decision: reject H0, two variances are unequal.\n",
      "----------------------------------------------------\n",
      "Column name: texture_worst.\n",
      "F ratio: 0.9786.\n",
      "p-value: 0.8686.\n",
      "95 C.I. (0.7716, 1.2504).\n",
      "Decision: do not reject H0, two variances are equal.\n",
      "----------------------------------------------------\n",
      "Column name: perimeter_worst.\n",
      "F ratio: 4.7421.\n",
      "p-value: 0.0.\n",
      "95 C.I. (3.7393, 6.0594).\n",
      "Decision: reject H0, two variances are unequal.\n",
      "----------------------------------------------------\n",
      "Column name: area_worst.\n",
      "F ratio: 13.3592.\n",
      "p-value: 0.0.\n",
      "95 C.I. (10.5341, 17.0703).\n",
      "Decision: reject H0, two variances are unequal.\n",
      "----------------------------------------------------\n",
      "Column name: smoothness_worst.\n",
      "F ratio: 1.1941.\n",
      "p-value: 0.1434.\n",
      "95 C.I. (0.9416, 1.5258).\n",
      "Decision: do not reject H0, two variances are equal.\n",
      "----------------------------------------------------\n",
      "Column name: compactness_worst.\n",
      "F ratio: 3.416.\n",
      "p-value: 0.0.\n",
      "95 C.I. (2.6936, 4.365).\n",
      "Decision: reject H0, two variances are unequal.\n",
      "----------------------------------------------------\n",
      "Column name: concavity_worst.\n",
      "F ratio: 1.6721.\n",
      "p-value: 0.0.\n",
      "95 C.I. (1.3185, 2.1365).\n",
      "Decision: reject H0, two variances are unequal.\n",
      "----------------------------------------------------\n",
      "Column name: concave points_worst.\n",
      "F ratio: 1.6734.\n",
      "p-value: 0.0.\n",
      "95 C.I. (1.3195, 2.1383).\n",
      "Decision: reject H0, two variances are unequal.\n",
      "----------------------------------------------------\n",
      "Column name: symmetry_worst.\n",
      "F ratio: 3.2008.\n",
      "p-value: 0.0.\n",
      "95 C.I. (2.5239, 4.09).\n",
      "Decision: reject H0, two variances are unequal.\n",
      "----------------------------------------------------\n",
      "Column name: fractal_dimension_worst.\n",
      "F ratio: 2.4378.\n",
      "p-value: 0.0.\n",
      "95 C.I. (1.9223, 3.115).\n",
      "Decision: reject H0, two variances are unequal.\n",
      "----------------------------------------------------\n"
     ]
    }
   ],
   "source": [
    "# Initiate two lists collecting columns' names.\n",
    "unequal_col = []\n",
    "equal_col = []\n",
    "\n",
    "# Loop through numerical columns.\n",
    "for num_col in data.columns:\n",
    "    if data[num_col].dtype != 'object':\n",
    "        f_results = f_test_two_p_variance(var1=np.var(data[data.diagnosis == 'M'][num_col],ddof=1), \n",
    "                                          var2=np.var(data[data.diagnosis == 'B'][num_col],ddof=1), \n",
    "                                          n1=data[data.diagnosis == 'M'][num_col].count(), \n",
    "                                          n2=data[data.diagnosis == 'B'][num_col].count(), \n",
    "                                          alpha_level=0.05)\n",
    "        print('Column name: {}.'.format(num_col))\n",
    "        print('F ratio: {}.'.format(round(f_results[0],4)))\n",
    "        print('p-value: {}.'.format(round(f_results[1],4)))\n",
    "        print('95 C.I. {}.'.format(f_results[2]))\n",
    "        if f_results[1] <= 0.05:\n",
    "            print('Decision: reject H0, two variances are unequal.')\n",
    "            unequal_col.append(num_col)\n",
    "        else: \n",
    "            print('Decision: do not reject H0, two variances are equal.')\n",
    "            equal_col.append(num_col)\n",
    "        print('----------------------------------------------------')"
   ]
  },
  {
   "cell_type": "code",
   "execution_count": 4,
   "metadata": {},
   "outputs": [
    {
     "data": {
      "text/plain": [
       "30"
      ]
     },
     "execution_count": 4,
     "metadata": {},
     "output_type": "execute_result"
    }
   ],
   "source": [
    "# Check whether I have collectd all the results. \n",
    "# The total columns (predictors) must be 30.\n",
    "len(unequal_col) + len(equal_col)"
   ]
  },
  {
   "cell_type": "markdown",
   "metadata": {},
   "source": [
    "## 1.2 Hypothesis testing - two-sample t-test for comparing means"
   ]
  },
  {
   "cell_type": "markdown",
   "metadata": {},
   "source": [
    "- **Two sample t-test, null (h0) and alternative (h1) hypotheses:**\n",
    "\n",
    "$$H_0: \\mu_1 = \\mu_2$$\n",
    "\n",
    "$$H_1: \\mu_1 \\neq \\mu_2$$"
   ]
  },
  {
   "cell_type": "markdown",
   "metadata": {},
   "source": [
    "- **Two sample t-test, test statistic:** \n",
    "    - If unequal variances are assumed, then the formula is:\n",
    "$$ T = \\frac {\\bar {x_1} - \\bar {x_2}} {\\sqrt {\\frac {s_1^2} {n_1} + \\frac {s_2^2} {n_2}}} $$\n",
    "\n",
    "    - If equal variances are assumed, then the formula reduces to:\n",
    "$$ T = \\frac {\\bar {x_1} - \\bar {x_2}} {s_p \\sqrt {\\frac {1} {n_1} + \\frac {1} {n_2}}} $$\n",
    "$$ s_p^2 = \\frac {(n_1-1)·s_1^2 + (n_2-1)·s_2^2} {n_1+n_2-2} $$\n",
    "\n",
    "- **Reject \\$H_0$**:\n",
    "\n",
    "    - when p-value is less than $\\alpha$"
   ]
  },
  {
   "cell_type": "code",
   "execution_count": 5,
   "metadata": {
    "scrolled": false
   },
   "outputs": [
    {
     "name": "stdout",
     "output_type": "stream",
     "text": [
      "Column name: radius_mean.\n",
      "Decision: reject H0, two means are unequal.\n",
      "p-value: 1.6844591259582747e-64.\n",
      "-------------------------------------------\n",
      "Column name: perimeter_mean.\n",
      "Decision: reject H0, two means are unequal.\n",
      "p-value: 1.0231409970104587e-66.\n",
      "-------------------------------------------\n",
      "Column name: area_mean.\n",
      "Decision: reject H0, two means are unequal.\n",
      "p-value: 3.284366459573323e-52.\n",
      "-------------------------------------------\n",
      "Column name: compactness_mean.\n",
      "Decision: reject H0, two means are unequal.\n",
      "p-value: 9.607863145123788e-42.\n",
      "-------------------------------------------\n",
      "Column name: concavity_mean.\n",
      "Decision: reject H0, two means are unequal.\n",
      "p-value: 3.742120672313664e-58.\n",
      "-------------------------------------------\n",
      "Column name: concave points_mean.\n",
      "Decision: reject H0, two means are unequal.\n",
      "p-value: 3.1273162856782697e-71.\n",
      "-------------------------------------------\n",
      "Column name: radius_se.\n",
      "Decision: reject H0, two means are unequal.\n",
      "p-value: 1.4911328540231125e-30.\n",
      "-------------------------------------------\n",
      "Column name: texture_se.\n",
      "Decision: do not reject H0, two means are equal.\n",
      "p-value: 0.8354170682009693.\n",
      "-------------------------------------------\n",
      "Column name: perimeter_se.\n",
      "Decision: reject H0, two means are unequal.\n",
      "p-value: 6.868552881086801e-29.\n",
      "-------------------------------------------\n",
      "Column name: area_se.\n",
      "Decision: reject H0, two means are unequal.\n",
      "p-value: 2.983567645621385e-26.\n",
      "-------------------------------------------\n",
      "Column name: concavity_se.\n",
      "Decision: reject H0, two means are unequal.\n",
      "p-value: 1.2665140376966787e-11.\n",
      "-------------------------------------------\n",
      "Column name: symmetry_se.\n",
      "Decision: do not reject H0, two means are equal.\n",
      "p-value: 0.8871222602903024.\n",
      "-------------------------------------------\n",
      "Column name: fractal_dimension_se.\n",
      "Decision: reject H0, two means are unequal.\n",
      "p-value: 0.0422023771055649.\n",
      "-------------------------------------------\n",
      "Column name: radius_worst.\n",
      "Decision: reject H0, two means are unequal.\n",
      "p-value: 3.556557294296528e-71.\n",
      "-------------------------------------------\n",
      "Column name: perimeter_worst.\n",
      "Decision: reject H0, two means are unequal.\n",
      "p-value: 1.0327299382322627e-72.\n",
      "-------------------------------------------\n",
      "Column name: area_worst.\n",
      "Decision: reject H0, two means are unequal.\n",
      "p-value: 4.937923843586185e-54.\n",
      "-------------------------------------------\n",
      "Column name: compactness_worst.\n",
      "Decision: reject H0, two means are unequal.\n",
      "p-value: 1.7498345650132686e-38.\n",
      "-------------------------------------------\n",
      "Column name: concavity_worst.\n",
      "Decision: reject H0, two means are unequal.\n",
      "p-value: 9.852483589061728e-59.\n",
      "-------------------------------------------\n",
      "Column name: concave points_worst.\n",
      "Decision: reject H0, two means are unequal.\n",
      "p-value: 1.0614541463951347e-96.\n",
      "-------------------------------------------\n",
      "Column name: symmetry_worst.\n",
      "Decision: reject H0, two means are unequal.\n",
      "p-value: 6.562498518405923e-19.\n",
      "-------------------------------------------\n",
      "Column name: fractal_dimension_worst.\n",
      "Decision: reject H0, two means are unequal.\n",
      "p-value: 2.041904105242085e-12.\n",
      "-------------------------------------------\n",
      "Column name: texture_mean.\n",
      "Decision: reject H0, two means are unequal.\n",
      "p-value: 4.0586360478980736e-25.\n",
      "-------------------------------------------\n",
      "Column name: smoothness_mean.\n",
      "Decision: reject H0, two means are unequal.\n",
      "p-value: 1.0518503592032013e-18.\n",
      "-------------------------------------------\n",
      "Column name: symmetry_mean.\n",
      "Decision: reject H0, two means are unequal.\n",
      "p-value: 5.733384028466827e-16.\n",
      "-------------------------------------------\n",
      "Column name: fractal_dimension_mean.\n",
      "Decision: do not reject H0, two means are equal.\n",
      "p-value: 0.7599368037256238.\n",
      "-------------------------------------------\n",
      "Column name: smoothness_se.\n",
      "Decision: do not reject H0, two means are equal.\n",
      "p-value: 0.11029660865789295.\n",
      "-------------------------------------------\n",
      "Column name: compactness_se.\n",
      "Decision: reject H0, two means are unequal.\n",
      "p-value: 9.975994654074587e-13.\n",
      "-------------------------------------------\n",
      "Column name: concave points_se.\n",
      "Decision: reject H0, two means are unequal.\n",
      "p-value: 3.0723087688180654e-24.\n",
      "-------------------------------------------\n",
      "Column name: texture_worst.\n",
      "Decision: reject H0, two means are unequal.\n",
      "p-value: 1.0780574879494241e-30.\n",
      "-------------------------------------------\n",
      "Column name: smoothness_worst.\n",
      "Decision: reject H0, two means are unequal.\n",
      "p-value: 6.575143633984769e-26.\n",
      "-------------------------------------------\n"
     ]
    }
   ],
   "source": [
    "# Perform a two-sample t-test to inspect whether two groups have 'different' means.\n",
    "# If they are different to each other in the aspect of mean given a predictor, \n",
    "# then it might indicate this predictor has some prediction power \n",
    "# on the response variable (diagnosis).\n",
    "\n",
    "# Collecting results.\n",
    "t_test_stats = np.array([])\n",
    "t_test_p_values = np.array([])\n",
    "num_col_names = np.array([])\n",
    "\n",
    "# Loop into numerical columns (unequal variance case).\n",
    "for num_col in unequal_col:\n",
    "    t_test_stat, t_test_p_value = ttest_ind(a=data[data.diagnosis == 'M'][num_col], \n",
    "                                            b=data[data.diagnosis == 'B'][num_col], \n",
    "                                            equal_var=False)\n",
    "    t_test_stats = np.append(t_test_stats, t_test_stat)\n",
    "    t_test_p_values = np.append(t_test_p_values, t_test_p_value)\n",
    "    num_col_names = np.append(num_col_names, num_col)\n",
    "    # Decision (reject or not reject H0)\n",
    "    if t_test_p_value <= 0.05:\n",
    "        print('Column name: {}.'.format(num_col))\n",
    "        print('Decision: reject H0, two means are unequal.')\n",
    "        print('p-value: {}.'.format(t_test_p_value))\n",
    "    else:\n",
    "        print('Column name: {}.'.format(num_col))\n",
    "        print('Decision: do not reject H0, two means are equal.')\n",
    "        print('p-value: {}.'.format(t_test_p_value))\n",
    "    print('-------------------------------------------')\n",
    "\n",
    "# Loop into numerical columns (equal variance case).\n",
    "for num_col in equal_col:\n",
    "    t_test_stat, t_test_p_value = ttest_ind(a=data[data.diagnosis == 'M'][num_col], \n",
    "                                            b=data[data.diagnosis == 'B'][num_col], \n",
    "                                            equal_var=True)\n",
    "    t_test_stats = np.append(t_test_stats, t_test_stat)\n",
    "    t_test_p_values = np.append(t_test_p_values, t_test_p_value)\n",
    "    num_col_names = np.append(num_col_names, num_col)\n",
    "    # Decision (reject or not reject H0)\n",
    "    if t_test_p_value <= 0.05:\n",
    "        print('Column name: {}.'.format(num_col))\n",
    "        print('Decision: reject H0, two means are unequal.')\n",
    "        print('p-value: {}.'.format(t_test_p_value))\n",
    "    else:\n",
    "        print('Column name: {}.'.format(num_col))\n",
    "        print('Decision: do not reject H0, two means are equal.')\n",
    "        print('p-value: {}.'.format(t_test_p_value))\n",
    "    print('-------------------------------------------')"
   ]
  },
  {
   "cell_type": "code",
   "execution_count": 6,
   "metadata": {},
   "outputs": [],
   "source": [
    "# Sort the t-test statistic result and return the corresponding indexes.\n",
    "sort_index = abs(t_test_stats).argsort()"
   ]
  },
  {
   "cell_type": "code",
   "execution_count": 7,
   "metadata": {},
   "outputs": [
    {
     "data": {
      "text/plain": [
       "array(['symmetry_se', 'texture_se', 'fractal_dimension_mean',\n",
       "       'smoothness_se', 'fractal_dimension_se', 'concavity_se',\n",
       "       'compactness_se', 'fractal_dimension_worst', 'symmetry_mean',\n",
       "       'smoothness_mean', 'symmetry_worst', 'concave points_se',\n",
       "       'texture_mean', 'smoothness_worst', 'area_se', 'texture_worst',\n",
       "       'perimeter_se', 'radius_se', 'compactness_worst',\n",
       "       'compactness_mean', 'concavity_worst', 'area_mean',\n",
       "       'concavity_mean', 'area_worst', 'radius_mean', 'perimeter_mean',\n",
       "       'radius_worst', 'concave points_mean', 'perimeter_worst',\n",
       "       'concave points_worst'], dtype='<U32')"
      ]
     },
     "execution_count": 7,
     "metadata": {},
     "output_type": "execute_result"
    }
   ],
   "source": [
    "# Column names: From the least to the most important numerical feature.\n",
    "num_col_names[sort_index]"
   ]
  },
  {
   "cell_type": "markdown",
   "metadata": {},
   "source": [
    "## 1.3 Overall feature selection summary"
   ]
  },
  {
   "cell_type": "markdown",
   "metadata": {},
   "source": [
    "### Numerical predictors\n",
    "- **Predictors didn't pass the test (p-value larger than 0.05):** \n",
    "    - Therefore, these four features are not good predictors to differentiate 'diagnosis' groups.\n",
    "    - Compared this hypothesis testing result with my previous assumptions in 'Breast_Cancer_EDA', **'symmetry_se', 'texture_se', and 'smoothness_se'** were picked correctly!\n",
    "\n",
    "| Column name | p-value |\n",
    "| -- | -- |\n",
    "| symmetry_se | 0.8871\n",
    "| texture_se | 0.8354\n",
    "| fractal_dimension_mean | 0.7599\n",
    "| smoothness_se | 0.1103\n",
    "\n",
    "- **Predictors passed the test (p-value less than 0.05):**\n",
    "    - **fractal_dimension_se** passed the test, but notice that the p-value is very close to 0.05.\n",
    "    - **concave points_worst** might be the most important predictor among all features observed from the test result.\n",
    "    - **perimeter and concave groups** both have mean and worst predictors ranked in the top five list.\n",
    "    - Compared this hypothesis testing result with my previous assumptions in 'Breast_Cancer_EDA', **'radius_worst', 'perimeter_mean', and 'perimeter_worst'** were picked correctly!\n",
    "    \n",
    "| Column name | Rank |\n",
    "| -- | -- |\n",
    "| perimeter_mean | 5\n",
    "| radius_worst | 4\n",
    "| concave points_mean | 3\n",
    "| perimeter_worst | 2\n",
    "| **concave points_worst** | 1 "
   ]
  },
  {
   "cell_type": "markdown",
   "metadata": {},
   "source": [
    "# 2. Next steps\n",
    "- From now on, I have better understandings on my dataset and attained solid conclusions regarding feature selection by verifying assumptions between visualizations and statistical hypothesis testing results.\n",
    "- I will build some baseline models, see how much score such as AUC, recall, and precision I can achieve. Then, I will boost the model performance by tuning hyperparameters of each of the top three baseline models and compare the final model performance."
   ]
  },
  {
   "cell_type": "code",
   "execution_count": null,
   "metadata": {},
   "outputs": [],
   "source": []
  }
 ],
 "metadata": {
  "kernelspec": {
   "display_name": "Python 3",
   "language": "python",
   "name": "python3"
  },
  "language_info": {
   "codemirror_mode": {
    "name": "ipython",
    "version": 3
   },
   "file_extension": ".py",
   "mimetype": "text/x-python",
   "name": "python",
   "nbconvert_exporter": "python",
   "pygments_lexer": "ipython3",
   "version": "3.7.3"
  }
 },
 "nbformat": 4,
 "nbformat_minor": 2
}
